{
  "cells": [
    {
      "cell_type": "markdown",
      "metadata": {
        "id": "view-in-github",
        "colab_type": "text"
      },
      "source": [
        "<a href=\"https://colab.research.google.com/github/TRex219961/GG-Collab-MacOS/blob/main/B%E1%BA%A3n_sao_c%E1%BB%A7a_VMProject_.ipynb\" target=\"_parent\"><img src=\"https://colab.research.google.com/assets/colab-badge.svg\" alt=\"Open In Colab\"/></a>"
      ]
    },
    {
      "cell_type": "code",
      "execution_count": null,
      "metadata": {
        "id": "pCotwow9b4X0"
      },
      "outputs": [],
      "source": [
        "#@title First step : Ngrok stuff\n",
        "#@markdown go to here to got token https://dashboard.ngrok.com/get-started/your-authtoken\n",
        "#@markdown\n",
        "authtoken = \"token ngrok\" #@param {type:\"string\"}\n",
        "!wget https://bin.equinox.io/c/4VmDzA7iaHb/ngrok-stable-linux-amd64.zip\n",
        "!unzip -o ngrok-stable-linux-amd64.zip > /dev/null 2>&1\n",
        "!rm -rf ngrok-stable-linux-amd64.zip\n",
        "!./ngrok authtoken {authtoken}\n",
        "!nohup ./ngrok tcp --region ap 5900 &>/dev/null &\n",
        "print(\"this is your ip , type it when done all these step, if you dont got a ip rerun this step :\")\n",
        "!curl --silent --show-error http://127.0.0.1:4040/api/tunnels | sed -nE 's/.*public_url\":\"tcp:..([^\"]*).*/\\1/p'"
      ]
    },
    {
      "cell_type": "code",
      "execution_count": null,
      "metadata": {
        "id": "EsBhg6IPdraQ"
      },
      "outputs": [],
      "source": [
        "#@title Second step: Install QEMU\n",
        "#@markdown This is a second step, now you type any command you want here and it will download it on, you need put link iso to link_iso , \n",
        "\n",
        "#@markdown https://dl.malwarewatch.org\n",
        "\n",
        "disk = \"40\" #@param {type:\"string\"}\n",
        "\n",
        "command = \"11\" #@param {type:\"string\"}\n",
        "link_iso = \"https://www.dropbox.com/s/rw4k0oy01n8zcvn/11.iso?dl=0\" #@param {type:\"string\"}\n",
        "print(\"Installing QEMU\")\n",
        "!sudo apt-get update && apt-get install qemu -y\n",
        "!sudo apt install qemu-utils -y\n",
        "!sudo apt install qemu-system-x86-xen -y\n",
        "!sudo apt install qemu-system-x86 -y\n",
        "print(\"Installed Successfully\")\n",
        "!clear\n",
        "print(\"Creating disk\")\n",
        "!qemu-img create -f raw {command}.img {disk}G\n",
        "print(\"Created Successfully\")\n",
        "\n",
        "print(\"Downloading Needed Files\")\n",
        "!wget -O virtio-win.iso 'https://fedorapeople.org/groups/virt/virtio-win/direct-downloads/archive-virtio/virtio-win-0.1.215-1/virtio-win-0.1.215.iso'\n",
        "!wget -O {command}.iso '{link_iso}'\n",
        "print(\"Download Successfully\")\n",
        "print(\"now scroll down to next step\")"
      ]
    },
    {
      "cell_type": "code",
      "execution_count": null,
      "metadata": {
        "colab": {
          "background_save": true
        },
        "id": "Utj8ogABiOxe"
      },
      "outputs": [],
      "source": [
        "#@title Third step: Run QEMU\n",
        "#@markdown This is a last step, now you type a disk name you in the Second step and type your vm specs bellow here (recommend : 4G/2VCPU)\n",
        "\n",
        "#@markdown If you wanna change cpu read this docs : https://qemu-project.gitlab.io/qemu/system/qemu-cpu-models.html\n",
        "ram = \"4\" #@param {type:\"string\"}\n",
        "core = \"2\" #@param {type:\"string\"}\n",
        "cpu_type = \"EPYC\" #@param {type:\"string\"}\n",
        "command = \"11\" #@param {type:\"string\"}\n",
        "print(\"Key Windows 8.1 : XKY4K-2NRWR-8F6P2-448RF-CRYQH\")\n",
        "!sudo qemu-system-x86_64 \\\n",
        "  -m {ram}G \\\n",
        "  -cpu EPYC \\\n",
        "  -boot order=d \\\n",
        "  -drive file={command}.iso,media=cdrom \\\n",
        "  -drive file={command}.img,format=raw,if=virtio \\\n",
        "  -drive file=virtio-win.iso,media=cdrom \\\n",
        "  -device usb-ehci,id=usb,bus=pci.0,addr=0x4 \\\n",
        "  -device usb-tablet \\\n",
        "  -vnc :0 \\\n",
        "  -smp cores={core} \\"
      ]
    }
  ],
  "metadata": {
    "accelerator": "GPU",
    "colab": {
      "collapsed_sections": [],
      "name": "Bản sao của VMProject .ipynb",
      "provenance": [],
      "include_colab_link": true
    },
    "gpuClass": "standard",
    "kernelspec": {
      "display_name": "Python 3",
      "name": "python3"
    },
    "language_info": {
      "name": "python"
    }
  },
  "nbformat": 4,
  "nbformat_minor": 0
}